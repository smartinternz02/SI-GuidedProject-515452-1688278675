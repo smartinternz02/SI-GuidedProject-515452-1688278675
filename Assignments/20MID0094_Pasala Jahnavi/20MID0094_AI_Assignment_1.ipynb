{
  "nbformat": 4,
  "nbformat_minor": 0,
  "metadata": {
    "colab": {
      "provenance": []
    },
    "kernelspec": {
      "name": "python3",
      "display_name": "Python 3"
    },
    "language_info": {
      "name": "python"
    }
  },
  "cells": [
    {
      "cell_type": "code",
      "execution_count": 1,
      "metadata": {
        "colab": {
          "base_uri": "https://localhost:8080/"
        },
        "id": "hi7URpBwmAVF",
        "outputId": "05b79ea0-b3ea-4f97-bd0e-96e12bece069"
      },
      "outputs": [
        {
          "output_type": "stream",
          "name": "stdout",
          "text": [
            "               Feature 1  Feature 2  Feature 3  Feature 4\n",
            "Observation 1   0.896115   0.090313   0.145372   0.671827\n",
            "Observation 2   0.261805   0.720816   0.009530   0.135411\n",
            "Observation 3   0.756437   0.788507   0.220757   0.894086\n",
            "Observation 4   0.521834   0.265046   0.442849   0.485874\n"
          ]
        }
      ],
      "source": [
        "import numpy as np\n",
        "import pandas as pd\n",
        "#generating random values\n",
        "d = np.random.rand(4, 4)\n",
        "#creating a DataFrame \n",
        "df = pd.DataFrame(d, columns=['Feature 1', 'Feature 2', 'Feature 3', 'Feature 4'], \n",
        "                  index=['Observation 1', 'Observation 2', 'Observation 3', 'Observation 4'])\n",
        "#print the DataFrame\n",
        "print(df)   "
      ]
    },
    {
      "cell_type": "code",
      "source": [
        "import numpy as np\n",
        "import pandas as pd\n",
        "#renaming columns\n",
        "df = df.rename(columns = {'Feature 1' : 'Random value 1',\n",
        "                          'Feature 2' : 'Random value 2',\n",
        "                          'Feature 3' : 'Random value 3',\n",
        "                          'Feature 4' : 'Random value 4'})\n",
        "#print the DataFrame\n",
        "print(df)"
      ],
      "metadata": {
        "colab": {
          "base_uri": "https://localhost:8080/"
        },
        "id": "bLLep6TbmFH0",
        "outputId": "7a5d88ba-11e4-4472-914a-7920dcdaf6f0"
      },
      "execution_count": 2,
      "outputs": [
        {
          "output_type": "stream",
          "name": "stdout",
          "text": [
            "               Random value 1  Random value 2  Random value 3  Random value 4\n",
            "Observation 1        0.896115        0.090313        0.145372        0.671827\n",
            "Observation 2        0.261805        0.720816        0.009530        0.135411\n",
            "Observation 3        0.756437        0.788507        0.220757        0.894086\n",
            "Observation 4        0.521834        0.265046        0.442849        0.485874\n"
          ]
        }
      ]
    },
    {
      "cell_type": "code",
      "source": [
        "import numpy as np\n",
        "import pandas as pd\n",
        "#statistical description\n",
        "stat = df.describe()\n",
        "#print the Dataframe\n",
        "print(df)\n",
        "print('\\n')\n",
        "print(stat)"
      ],
      "metadata": {
        "colab": {
          "base_uri": "https://localhost:8080/"
        },
        "id": "3-nQQ7RXmIXH",
        "outputId": "7d39a142-9cf2-4f7a-ec76-3976c1eaaad3"
      },
      "execution_count": 3,
      "outputs": [
        {
          "output_type": "stream",
          "name": "stdout",
          "text": [
            "               Random value 1  Random value 2  Random value 3  Random value 4\n",
            "Observation 1        0.896115        0.090313        0.145372        0.671827\n",
            "Observation 2        0.261805        0.720816        0.009530        0.135411\n",
            "Observation 3        0.756437        0.788507        0.220757        0.894086\n",
            "Observation 4        0.521834        0.265046        0.442849        0.485874\n",
            "\n",
            "\n",
            "       Random value 1  Random value 2  Random value 3  Random value 4\n",
            "count        4.000000        4.000000        4.000000        4.000000\n",
            "mean         0.609048        0.466171        0.204627        0.546799\n",
            "std          0.278277        0.341792        0.181277        0.321036\n",
            "min          0.261805        0.090313        0.009530        0.135411\n",
            "25%          0.456827        0.221363        0.111412        0.398258\n",
            "50%          0.639135        0.492931        0.183064        0.578850\n",
            "75%          0.791356        0.737739        0.276280        0.727392\n",
            "max          0.896115        0.788507        0.442849        0.894086\n"
          ]
        }
      ]
    },
    {
      "cell_type": "code",
      "source": [
        "import numpy as np\n",
        "import pandas as pd\n",
        "#checking the null values\n",
        "null_val = df.isnull().sum()\n",
        "#checking data types\n",
        "data_type = df.dtypes\n",
        "#print the DataFrame\n",
        "print(null_val)\n",
        "print('\\n')\n",
        "print(data_type)"
      ],
      "metadata": {
        "colab": {
          "base_uri": "https://localhost:8080/"
        },
        "id": "Eu2CS9d4mP8z",
        "outputId": "1b626438-125b-47c0-a9bd-bf41d709fef5"
      },
      "execution_count": 4,
      "outputs": [
        {
          "output_type": "stream",
          "name": "stdout",
          "text": [
            "Random value 1    0\n",
            "Random value 2    0\n",
            "Random value 3    0\n",
            "Random value 4    0\n",
            "dtype: int64\n",
            "\n",
            "\n",
            "Random value 1    float64\n",
            "Random value 2    float64\n",
            "Random value 3    float64\n",
            "Random value 4    float64\n",
            "dtype: object\n"
          ]
        }
      ]
    },
    {
      "cell_type": "code",
      "source": [
        "import numpy as np\n",
        "import pandas as pd\n",
        "#display columns using the location method\n",
        "location_method = df[['Random value 2', 'Random value 3']]\n",
        "print(\"Columns using location method:\")\n",
        "print(location_method)\n",
        "#display columns using the index location method\n",
        "index_location_method = df.iloc[:, 1:3]\n",
        "print(\"\\nColumns using index location method:\")\n",
        "print(index_location_method)"
      ],
      "metadata": {
        "colab": {
          "base_uri": "https://localhost:8080/"
        },
        "id": "CJ-hU3_4mV-Z",
        "outputId": "382015c6-b4f1-4c19-d774-d15318a76a24"
      },
      "execution_count": 5,
      "outputs": [
        {
          "output_type": "stream",
          "name": "stdout",
          "text": [
            "Columns using location method:\n",
            "               Random value 2  Random value 3\n",
            "Observation 1        0.090313        0.145372\n",
            "Observation 2        0.720816        0.009530\n",
            "Observation 3        0.788507        0.220757\n",
            "Observation 4        0.265046        0.442849\n",
            "\n",
            "Columns using index location method:\n",
            "               Random value 2  Random value 3\n",
            "Observation 1        0.090313        0.145372\n",
            "Observation 2        0.720816        0.009530\n",
            "Observation 3        0.788507        0.220757\n",
            "Observation 4        0.265046        0.442849\n"
          ]
        }
      ]
    }
  ]
}
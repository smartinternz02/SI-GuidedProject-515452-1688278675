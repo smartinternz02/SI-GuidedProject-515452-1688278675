{
  "cells": [
    {
      "cell_type": "code",
      "execution_count": null,
      "metadata": {
        "id": "oAP0f99J7SME"
      },
      "outputs": [],
      "source": [
        "#20MID0073 METHUKU RITHVIKA RADHE\n",
        "\n",
        "\n",
        "from google.colab import drive\n",
        "drive.mount('/content/drive')\n"
      ]
    },
    {
      "cell_type": "code",
      "execution_count": null,
      "metadata": {
        "id": "IEf92U6K71tu"
      },
      "outputs": [],
      "source": [
        "!unzip '/content/drive/MyDrive/Colab Notebooks/archive.zip'"
      ]
    },
    {
      "cell_type": "code",
      "execution_count": null,
      "metadata": {
        "id": "kdUOL5LN8HsD"
      },
      "outputs": [],
      "source": [
        "import tensorflow as tf\n",
        "tf.keras.backend.clear_session()"
      ]
    },
    {
      "cell_type": "code",
      "execution_count": null,
      "metadata": {
        "id": "DXKD1hZb8L2f"
      },
      "outputs": [],
      "source": [
        "# Data Augmentation\n",
        "from tensorflow.keras.preprocessing.image import ImageDataGenerator\n",
        "from tensorflow.keras.layers import Convolution2D,MaxPooling2D,Flatten,Dense\n",
        "from tensorflow.keras.models import Sequential\n",
        "import cv2 as cv\n"
      ]
    },
    {
      "cell_type": "code",
      "execution_count": null,
      "metadata": {
        "id": "cf8yeygC8PY7"
      },
      "outputs": [],
      "source": [
        "train_gen = ImageDataGenerator(rescale=(1./255),horizontal_flip=True,shear_range=0.2)\n",
        "test_gen = ImageDataGenerator(rescale=(1./255))\n"
      ]
    },
    {
      "cell_type": "code",
      "execution_count": null,
      "metadata": {
        "id": "AYRN4NqB8Su6"
      },
      "outputs": [],
      "source": [
        "train = train_gen.flow_from_directory('/content/train_data/train_data',\n",
        "target_size=(120, 120),\n",
        "class_mode='categorical',\n",
        "batch_size=8)\n",
        "test = test_gen.flow_from_directory('/content/test_data/test_data',\n",
        "target_size=(120, 120),\n",
        "class_mode='categorical',\n",
        "batch_size=8)"
      ]
    },
    {
      "cell_type": "code",
      "execution_count": null,
      "metadata": {
        "id": "HNfoi05b8YFO"
      },
      "outputs": [],
      "source": [
        "print(train.class_indices)\n",
        "print(test.class_indices)\n"
      ]
    },
    {
      "cell_type": "code",
      "execution_count": null,
      "metadata": {
        "id": "AoXdqgJx8brg"
      },
      "outputs": [],
      "source": [
        "# CNN\n",
        "from tensorflow.keras.layers import Convolution2D,MaxPooling2D,Flatten,Dense\n",
        "from tensorflow.keras.models import Sequential"
      ]
    },
    {
      "cell_type": "code",
      "execution_count": null,
      "metadata": {
        "id": "h15B4jdx8eGd"
      },
      "outputs": [],
      "source": [
        "model = Sequential([\n",
        "Convolution2D(20,(3,3),activation = 'relu',input_shape=(120,120,3)),\n",
        "MaxPooling2D(2,2),\n",
        "Flatten(),\n",
        "Dense(45,activation = 'relu'),\n",
        "Dense(16,activation = 'softmax')\n",
        "])\n"
      ]
    },
    {
      "cell_type": "code",
      "execution_count": null,
      "metadata": {
        "id": "ElKzns2F8jms"
      },
      "outputs": [],
      "source": [
        "model.compile(optimizer='adam',loss='categorical_crossentropy',metrics=['accuracy'])"
      ]
    },
    {
      "cell_type": "code",
      "execution_count": null,
      "metadata": {
        "id": "dDR_Zg2U8m0a"
      },
      "outputs": [],
      "source": [
        "model_fit = model.fit(train,epochs =20,validation_data = test ,batch_size=5)"
      ]
    },
    {
      "cell_type": "code",
      "execution_count": null,
      "metadata": {
        "id": "BuvBhKx_Erou"
      },
      "outputs": [],
      "source": [
        "model.save('birds.h5')\n"
      ]
    },
    {
      "cell_type": "code",
      "execution_count": null,
      "metadata": {
        "id": "Xt4_XcdHEv0d"
      },
      "outputs": [],
      "source": [
        "model_new = tf.keras.models.load_model('/content/birds.h5')\n"
      ]
    },
    {
      "cell_type": "code",
      "execution_count": null,
      "metadata": {
        "id": "ycrgs0P-E0FR"
      },
      "outputs": [],
      "source": [
        "import numpy as np\n",
        "from tensorflow.keras.preprocessing import image"
      ]
    },
    {
      "cell_type": "code",
      "execution_count": null,
      "metadata": {
        "id": "BMRNLAQvE3_i"
      },
      "outputs": [],
      "source": [
        "output = ['rebimg','wcrsrt','jglowl','ibicrw','mgprob','hsparo',\n",
        "'indvul','himgri','himbul','gretit','hilpig','cbrtsh',\n",
        "'cmnmyn','bonegl','brhkyt','blasti']\n",
        "print(output)\n"
      ]
    },
    {
      "cell_type": "code",
      "execution_count": null,
      "metadata": {
        "id": "8yEaInT6E7Ww"
      },
      "outputs": [],
      "source": [
        "img1 = image.load_img(\"/content/train_data/train_data/mgprob/100_5590.JPG\",target_size=(120,120))\n",
        "img1 = image.img_to_array(img1)\n",
        "img1 = np.expand_dims(img1,axis=0)\n",
        "pred = np.argmax(model.predict(img1))\n",
        "print(pred)\n",
        "print(output[pred])"
      ]
    },
    {
      "cell_type": "code",
      "execution_count": null,
      "metadata": {
        "id": "JGIWoBxJFBAI"
      },
      "outputs": [],
      "source": [
        "img1 = image.load_img(\"/content/train_data/train_data/cmnmyn/100_5763.JPG\",target_size=(120,120))\n",
        "img1 = image.img_to_array(img1)\n",
        "img1 = np.expand_dims(img1,axis=0)\n",
        "pred = np.argmax(model.predict(img1))\n",
        "print(pred)\n",
        "print(output[pred])"
      ]
    },
    {
      "cell_type": "code",
      "execution_count": null,
      "metadata": {
        "id": "dgWlAs2cFEDD"
      },
      "outputs": [],
      "source": [
        "img1 = image.load_img(\"/content/train_data/train_data/gretit/100_5043.JPG\",target_size=(120,120))\n",
        "img1 = image.img_to_array(img1)\n",
        "img1 = np.expand_dims(img1,axis=0)\n",
        "pred = np.argmax(model.predict(img1))\n",
        "print(pred)\n",
        "print(output[pred])"
      ]
    },
    {
      "cell_type": "code",
      "execution_count": null,
      "metadata": {
        "id": "fwIdVokzFHDb"
      },
      "outputs": [],
      "source": [
        "img1 = image.load_img(\"/content/train_data/train_data/himbul/100_5029.JPG\",target_size=(120,120))\n",
        "img1 = image.img_to_array(img1)\n",
        "img1 = np.expand_dims(img1,axis=0)\n",
        "pred = np.argmax(model.predict(img1))\n",
        "print(pred)\n",
        "print(output[pred])"
      ]
    }
  ],
  "metadata": {
    "accelerator": "GPU",
    "colab": {
      "gpuType": "T4",
      "private_outputs": true,
      "provenance": []
    },
    "kernelspec": {
      "display_name": "Python 3",
      "name": "python3"
    },
    "language_info": {
      "name": "python"
    }
  },
  "nbformat": 4,
  "nbformat_minor": 0
}

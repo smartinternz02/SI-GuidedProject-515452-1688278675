{
  "nbformat": 4,
  "nbformat_minor": 0,
  "metadata": {
    "colab": {
      "provenance": []
    },
    "kernelspec": {
      "name": "python3",
      "display_name": "Python 3"
    },
    "language_info": {
      "name": "python"
    }
  },
  "cells": [
    {
      "cell_type": "code",
      "execution_count": null,
      "metadata": {
        "colab": {
          "base_uri": "https://localhost:8080/"
        },
        "id": "giypO2KGx7xw",
        "outputId": "e78efdbd-38c0-42eb-d8aa-a8a9d8420c80"
      },
      "outputs": [
        {
          "output_type": "stream",
          "name": "stdout",
          "text": [
            "   Feature 1  Feature 2  Feature 3  Feature 4\n",
            "0   0.191792   0.038276   0.143950   0.301524\n",
            "1   0.734724   0.506458   0.910830   0.060765\n",
            "2   0.151403   0.791737   0.216705   0.971847\n",
            "3   0.226345   0.018250   0.656579   0.133164\n"
          ]
        }
      ],
      "source": [
        "import numpy as np\n",
        "\n",
        "import pandas as pd\n",
        "\n",
        "#Creating pandas dataframe with numpy random values \n",
        "df = pd.DataFrame(np.random.rand(4,4), columns=['Feature 1', 'Feature 2', 'Feature 3', 'Feature 4']) \n",
        "print(df)"
      ]
    },
    {
      "cell_type": "code",
      "source": [
        "#2\n",
        "#Renaming the name of columns\n",
        "\n",
        "df = pd.DataFrame(np.random.rand(4,4), columns=['Feature 1', 'Feature 2', 'Feature 3', 'Feature 4'])\n",
        "\n",
        "#printing orginal column names \n",
        "print(df.columns)\n",
        "\n",
        "#Rename the columns\n",
        "\n",
        "df = df.rename(columns={'Feature 1': 'Random value1', 'Feature 2' : 'Random value2', 'Feature 3' : 'Random value3', 'Feature 4':'Random value4'})\n",
        "print(df.columns)"
      ],
      "metadata": {
        "colab": {
          "base_uri": "https://localhost:8080/"
        },
        "id": "hdEBfQ4ez1oA",
        "outputId": "3796e9d4-2ed7-4fe9-a040-22ccfbe6b320"
      },
      "execution_count": null,
      "outputs": [
        {
          "output_type": "stream",
          "name": "stdout",
          "text": [
            "Index(['Feature 1', 'Feature 2', 'Feature 3', 'Feature 4'], dtype='object')\n",
            "Index(['Random value1', 'Random value2', 'Random value3', 'Random value4'], dtype='object')\n"
          ]
        }
      ]
    },
    {
      "cell_type": "code",
      "source": [
        "#3\n",
        "#descriptive statistics of df DataFrame \n",
        "print(df.describe())"
      ],
      "metadata": {
        "colab": {
          "base_uri": "https://localhost:8080/"
        },
        "id": "7HJW78ef0SFb",
        "outputId": "e18ef1c3-00a4-4da6-c4c7-fd90df3010f0"
      },
      "execution_count": null,
      "outputs": [
        {
          "output_type": "stream",
          "name": "stdout",
          "text": [
            "       Random value1  Random value2  Random value3  Random value4\n",
            "count       4.000000       4.000000       4.000000       4.000000\n",
            "mean        0.593216       0.542358       0.402704       0.359207\n",
            "std         0.307620       0.480026       0.190588       0.364445\n",
            "min         0.241429       0.069829       0.162688       0.014962\n",
            "25%         0.386789       0.158192       0.293333       0.095912\n",
            "50%         0.616049       0.570893       0.440519       0.302833\n",
            "75%         0.822476       0.955059       0.549889       0.566128\n",
            "max         0.899339       0.957818       0.567089       0.816203\n"
          ]
        }
      ]
    },
    {
      "cell_type": "code",
      "source": [
        "#4\n",
        "#checking for null values in dataframe \n",
        "print(df.isnull().sum())\n",
        "print(df.dtypes)"
      ],
      "metadata": {
        "colab": {
          "base_uri": "https://localhost:8080/"
        },
        "id": "Faudpx9Y0d1I",
        "outputId": "ff277c88-8b4d-4b88-9408-db44ed75fbf0"
      },
      "execution_count": null,
      "outputs": [
        {
          "output_type": "stream",
          "name": "stdout",
          "text": [
            "Random value1    0\n",
            "Random value2    0\n",
            "Random value3    0\n",
            "Random value4    0\n",
            "dtype: int64\n",
            "Random value1    float64\n",
            "Random value2    float64\n",
            "Random value3    float64\n",
            "Random value4    float64\n",
            "dtype: object\n"
          ]
        }
      ]
    },
    {
      "cell_type": "code",
      "source": [
        "#5\n",
        "#displaying columns with Location method.\n",
        "\n",
        "location_method = df[['Random value2', 'Random value3']]\n",
        "\n",
        "print(\"Columns using location method: \")\n",
        "print (location_method)\n",
        "\n",
        "#Display columns using index Location method \n",
        "index_location_method= df.iloc[:, 1:3]\n",
        "print(\"\\nColumns using index location method: \")\n",
        "\n",
        "print(index_location_method)\n"
      ],
      "metadata": {
        "colab": {
          "base_uri": "https://localhost:8080/"
        },
        "id": "ZsR09vso1GL1",
        "outputId": "e4b73680-beea-44f1-cbf2-1a21d96af7c3"
      },
      "execution_count": null,
      "outputs": [
        {
          "output_type": "stream",
          "name": "stdout",
          "text": [
            "Columns using location method: \n",
            "   Random value2  Random value3\n",
            "0       0.957818       0.544156\n",
            "1       0.954139       0.336882\n",
            "2       0.187646       0.162688\n",
            "3       0.069829       0.567089\n",
            "\n",
            "Columns using index location method: \n",
            "   Random value2  Random value3\n",
            "0       0.957818       0.544156\n",
            "1       0.954139       0.336882\n",
            "2       0.187646       0.162688\n",
            "3       0.069829       0.567089\n"
          ]
        }
      ]
    }
  ]
}
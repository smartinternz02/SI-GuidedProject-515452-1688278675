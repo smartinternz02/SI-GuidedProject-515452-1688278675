{
  "nbformat": 4,
  "nbformat_minor": 0,
  "metadata": {
    "colab": {
      "provenance": []
    },
    "kernelspec": {
      "name": "python3",
      "display_name": "Python 3"
    },
    "language_info": {
      "name": "python"
    }
  },
  "cells": [
    {
      "cell_type": "markdown",
      "source": [
        "Name:N.Devisree\n",
        "\n",
        "Reg.No:20MID0085\n",
        "\n",
        "CLG:VIT VELLORE"
      ],
      "metadata": {
        "id": "1lNBdmO8Zl_B"
      }
    },
    {
      "cell_type": "code",
      "execution_count": null,
      "metadata": {
        "colab": {
          "base_uri": "https://localhost:8080/"
        },
        "id": "ki8hAbCoxOi6",
        "outputId": "72e28ddd-7de9-406b-bee9-a1ca4b29b71a"
      },
      "outputs": [
        {
          "output_type": "stream",
          "name": "stdout",
          "text": [
            "   Feature 1  Feature 2  Feature 3  Feature 4\n",
            "0   0.909930   0.875137   0.965476   0.500539\n",
            "1   0.865252   0.271174   0.344265   0.597103\n",
            "2   0.856249   0.217641   0.082274   0.756908\n",
            "3   0.589444   0.078213   0.923921   0.812213\n"
          ]
        }
      ],
      "source": [
        "#1\n",
        "import numpy as np\n",
        "import pandas as pd\n",
        "\n",
        "#Creating pandas dataframe with numpy random values\n",
        "df = pd.DataFrame(np.random.rand(4,4), columns=['Feature 1', 'Feature 2', 'Feature 3', 'Feature 4'])\n",
        "print(df)"
      ]
    },
    {
      "cell_type": "code",
      "source": [
        "#2\n",
        "#Renaming the name of columns\n",
        "\n",
        "df = pd.DataFrame(np.random.rand(4,4), columns=['Feature 1', 'Feature 2', 'Feature 3', 'Feature 4'])\n",
        "\n",
        "#printing orginal column names \n",
        "print(df.columns)\n",
        "\n",
        "#Rename the columns\n",
        "\n",
        "df = df.rename(columns={'Feature 1': 'Random value1', 'Feature 2' : 'Random value2', 'Feature 3' : 'Random value3', 'Feature 4':'Random value4'})\n",
        "print(df.columns)"
      ],
      "metadata": {
        "colab": {
          "base_uri": "https://localhost:8080/"
        },
        "id": "HodQ0op_yVE4",
        "outputId": "e249b2db-a20c-4afa-8484-ada1f3f9902a"
      },
      "execution_count": null,
      "outputs": [
        {
          "output_type": "stream",
          "name": "stdout",
          "text": [
            "Index(['Feature 1', 'Feature 2', 'Feature 3', 'Feature 4'], dtype='object')\n",
            "Index(['Random value1', 'Random value2', 'Random value3', 'Random value4'], dtype='object')\n"
          ]
        }
      ]
    },
    {
      "cell_type": "code",
      "source": [
        "#3\n",
        "#descriptive statistics of df DataFrame\n",
        "print(df.describe())"
      ],
      "metadata": {
        "colab": {
          "base_uri": "https://localhost:8080/"
        },
        "id": "lFyRssXHzqUA",
        "outputId": "09aa4707-895a-4c5d-a6fc-0a90490df47e"
      },
      "execution_count": null,
      "outputs": [
        {
          "output_type": "stream",
          "name": "stdout",
          "text": [
            "       Random value1  Random value2  Random value3  Random value4\n",
            "count       4.000000       4.000000       4.000000       4.000000\n",
            "mean        0.355100       0.623010       0.545567       0.447907\n",
            "std         0.176694       0.267477       0.301949       0.352777\n",
            "min         0.126857       0.331650       0.105937       0.217941\n",
            "25%         0.264688       0.517659       0.493520       0.274901\n",
            "50%         0.383709       0.590245       0.641980       0.299926\n",
            "75%         0.474122       0.695596       0.694026       0.472932\n",
            "max         0.526126       0.979900       0.792371       0.973836\n"
          ]
        }
      ]
    },
    {
      "cell_type": "code",
      "source": [
        "#4\n",
        "#checking for null values in dataframe\n",
        "print(df.isnull().sum())"
      ],
      "metadata": {
        "colab": {
          "base_uri": "https://localhost:8080/"
        },
        "id": "1q57ttJI0Tb-",
        "outputId": "27d2e310-c716-4e37-878c-dd20490d7e61"
      },
      "execution_count": null,
      "outputs": [
        {
          "output_type": "stream",
          "name": "stdout",
          "text": [
            "Random value1    0\n",
            "Random value2    0\n",
            "Random value3    0\n",
            "Random value4    0\n",
            "dtype: int64\n"
          ]
        }
      ]
    },
    {
      "cell_type": "code",
      "source": [
        "print(df.dtypes)"
      ],
      "metadata": {
        "colab": {
          "base_uri": "https://localhost:8080/"
        },
        "id": "HZdzRe_l0hZl",
        "outputId": "309a7bed-8c82-4dd2-e0e4-f22e1b07345f"
      },
      "execution_count": null,
      "outputs": [
        {
          "output_type": "stream",
          "name": "stdout",
          "text": [
            "Random value1    float64\n",
            "Random value2    float64\n",
            "Random value3    float64\n",
            "Random value4    float64\n",
            "dtype: object\n"
          ]
        }
      ]
    },
    {
      "cell_type": "code",
      "source": [
        "#5\n",
        "#displaying columns with Location method.\n",
        "\n",
        "location_method = df[['Random value2', 'Random value3']]\n",
        "\n",
        "print(\"Columns using location method: \")\n",
        "print (location_method)\n",
        "\n",
        "#Display columns using index Location method \n",
        "index_location_method= df.iloc[:, 1:3]\n",
        "print(\"\\nColumns using index location method: \")\n",
        "\n",
        "print(index_location_method)"
      ],
      "metadata": {
        "colab": {
          "base_uri": "https://localhost:8080/"
        },
        "id": "lNZPEfDJ0oQh",
        "outputId": "f1e19ca4-2c72-4aaf-e5f2-a7ec6717df06"
      },
      "execution_count": null,
      "outputs": [
        {
          "output_type": "stream",
          "name": "stdout",
          "text": [
            "Columns using location method: \n",
            "   Random value2  Random value3\n",
            "0       0.331650       0.792371\n",
            "1       0.600828       0.105937\n",
            "2       0.979900       0.661245\n",
            "3       0.579662       0.622714\n",
            "\n",
            "Columns using index location method: \n",
            "   Random value2  Random value3\n",
            "0       0.331650       0.792371\n",
            "1       0.600828       0.105937\n",
            "2       0.979900       0.661245\n",
            "3       0.579662       0.622714\n"
          ]
        }
      ]
    }
  ]
}